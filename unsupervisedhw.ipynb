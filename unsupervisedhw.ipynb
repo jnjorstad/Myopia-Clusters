{
 "cells": [
  {
   "cell_type": "code",
   "execution_count": null,
   "id": "a81b0bb5",
   "metadata": {},
   "outputs": [],
   "source": [
    "import pandas as pd\n",
    "from pathlib import Path\n",
    "from sklearn.preprocessing import StandardScaler\n",
    "from sklearn.decomposition import PCA\n",
    "from sklearn.manifold import TSNE\n",
    "from sklearn.cluster import KMeans\n",
    "import matplotlib.pyplot as plt"
   ]
  },
  {
   "cell_type": "code",
   "execution_count": null,
   "id": "216d2f4f",
   "metadata": {},
   "outputs": [],
   "source": [
    "#Prepare the Data"
   ]
  },
  {
   "cell_type": "code",
   "execution_count": null,
   "id": "a3291ce0",
   "metadata": {
    "scrolled": false
   },
   "outputs": [],
   "source": [
    "#read the csv into a Pandas DF\n",
    "file_path = Path(\"myopia.csv\")\n",
    "myopia_df = pd.read_csv(file_path)\n",
    "myopia_df.head()"
   ]
  },
  {
   "cell_type": "code",
   "execution_count": null,
   "id": "b8d6db25",
   "metadata": {},
   "outputs": [],
   "source": [
    "#features of the dataset\n",
    "myopia_df.columns"
   ]
  },
  {
   "cell_type": "code",
   "execution_count": null,
   "id": "971e5116",
   "metadata": {
    "scrolled": false
   },
   "outputs": [],
   "source": [
    "#remove MYOPIC column from dataset\n",
    "myopia_df = myopia_df.drop(columns =['MYOPIC'])\n",
    "myopia_df.head()"
   ]
  },
  {
   "cell_type": "code",
   "execution_count": null,
   "id": "4926e536",
   "metadata": {
    "scrolled": true
   },
   "outputs": [],
   "source": [
    "#standardize dataset so that columns that contain larger values do not influence outcomedf_scaled = StandardScaler().fit_transform(df)\n",
    "scaler = StandardScaler()\n",
    "df_scaled = scaler.fit_transform(myopia_df)\n",
    "print(df_scaled)"
   ]
  },
  {
   "cell_type": "code",
   "execution_count": null,
   "id": "7c4394c7",
   "metadata": {},
   "outputs": [],
   "source": [
    "#transform data into a DF\n",
    "transformed_df = pd.DataFrame(df_scaled)\n",
    "transformed_df.head()"
   ]
  },
  {
   "cell_type": "code",
   "execution_count": null,
   "id": "85f98e15",
   "metadata": {},
   "outputs": [],
   "source": [
    "##Part 2 Apply Dimensionality Reduction\n"
   ]
  },
  {
   "cell_type": "code",
   "execution_count": null,
   "id": "44f09eac",
   "metadata": {},
   "outputs": [],
   "source": [
    "#perform dimensionality reduction with PCA\n",
    "#initialize PCA model\n",
    "pca = PCA(n_components = .90)\n",
    "df_pca = pca.fit_transform(df_scaled)\n",
    "#how did the number of features change?\n",
    "df_pca.shape"
   ]
  },
  {
   "cell_type": "code",
   "execution_count": null,
   "id": "d6de57a9",
   "metadata": {},
   "outputs": [],
   "source": [
    "#further reduce the dataset dimensions with t-SNE and visually inspect the results\n",
    "#initialize t-SNE model\n",
    "tsne = TSNE(learning_rate = 250)\n",
    "#reduce dimensions\n",
    "tsne_features = tsne.fit_transform(df_scaled)\n",
    "#check results\n",
    "tsne_features.shape"
   ]
  },
  {
   "cell_type": "code",
   "execution_count": null,
   "id": "c0b0724f",
   "metadata": {},
   "outputs": [],
   "source": [
    "#plot the results\n",
    "#visualize the clusters\n",
    "plt.scatter(tsne_features[:,0], tsne_features[:,1])\n",
    "plt.show()"
   ]
  },
  {
   "cell_type": "code",
   "execution_count": null,
   "id": "df2b44c4",
   "metadata": {},
   "outputs": [],
   "source": [
    "###Part 3 : Perform Cluster Analysis with K-means\n"
   ]
  },
  {
   "cell_type": "code",
   "execution_count": null,
   "id": "2c5f1a69",
   "metadata": {},
   "outputs": [],
   "source": [
    "#create an elbow plot to identify the best number of clusters\n",
    "inertia = []\n",
    "k = list(range(1,11))\n",
    "\n",
    "#calculate the intertia for the range of k values\n",
    "for i in k:\n",
    "    km = KMeans(n_clusters=i, random_state=42)\n",
    "    km.fit(tsne_features)\n",
    "    inertia.append(km.inertia_)\n",
    "\n",
    "#create elbow curve using hvPlot\n",
    "elbow_data = {\"k\": k, \"inertia\": inertia}\n",
    "df_elbow = pd.DataFrame(elbow_data)\n",
    "df_elbow.head()"
   ]
  },
  {
   "cell_type": "code",
   "execution_count": null,
   "id": "984915d1",
   "metadata": {},
   "outputs": [],
   "source": [
    "#plot the elbow curve \n",
    "plt.plot(df_elbow['k'], df_elbow['inertia'])\n",
    "plt.xticks(range(1,11))\n",
    "plt.xlabel('Number of Clusters')\n",
    "plt.ylabel('Inertia')\n",
    "plt.title('Elbow Curve for Myopia')\n",
    "plt.show()"
   ]
  },
  {
   "cell_type": "code",
   "execution_count": null,
   "id": "84cfcad5",
   "metadata": {},
   "outputs": [],
   "source": [
    "#elbow of the curve appears to be at a k value of 3"
   ]
  },
  {
   "cell_type": "code",
   "execution_count": null,
   "id": "9d6e1281",
   "metadata": {},
   "outputs": [],
   "source": [
    "#### Make a Recommendation\n",
    "#Based on my findings, the patients can be clustered into what looks like 4 or 5 groupings "
   ]
  },
  {
   "cell_type": "code",
   "execution_count": null,
   "id": "3fc2f31b",
   "metadata": {},
   "outputs": [],
   "source": []
  }
 ],
 "metadata": {
  "kernelspec": {
   "display_name": "Python [conda env:PythonData38] *",
   "language": "python",
   "name": "conda-env-PythonData38-py"
  },
  "language_info": {
   "codemirror_mode": {
    "name": "ipython",
    "version": 3
   },
   "file_extension": ".py",
   "mimetype": "text/x-python",
   "name": "python",
   "nbconvert_exporter": "python",
   "pygments_lexer": "ipython3",
   "version": "3.8.12"
  }
 },
 "nbformat": 4,
 "nbformat_minor": 5
}
